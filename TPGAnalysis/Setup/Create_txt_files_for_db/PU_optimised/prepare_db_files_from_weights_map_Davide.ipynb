{
 "cells": [
  {
   "cell_type": "code",
   "execution_count": 50,
   "metadata": {
    "ExecuteTime": {
     "end_time": "2019-05-03T09:53:12.774829Z",
     "start_time": "2019-05-03T09:53:12.469222Z"
    }
   },
   "outputs": [],
   "source": [
    "import pandas as pd\n",
    "import numpy as np\n",
    "\n",
    "dof = pd.read_csv(\"/eos/user/d/dvalsecc/ECAL/ECAL_Weights/PileupMC_v2/parameters/DOF_EE_2018.csv\",  sep=',', float_precision='round_trip')\n",
    "data = pd.read_csv(\"/eos/user/d/dvalsecc/ECAL/ECAL_Weights/PileupMC_v2/parameters/weights/strip_weights_EE_2018_encoded.txt\",  sep=',', float_precision='round_trip')\n",
    "\n",
    "group_orig = pd.read_csv(\"/eos/user/d/dvalsecc/ECAL/tpg-weights/Setup/EcalTPGWeightGroup.txt\", sep=\" \", header=None)\n"
   ]
  },
  {
   "cell_type": "code",
   "execution_count": 51,
   "metadata": {
    "ExecuteTime": {
     "end_time": "2019-05-03T09:53:14.907059Z",
     "start_time": "2019-05-03T09:53:13.633727Z"
    }
   },
   "outputs": [],
   "source": [
    "stripids= [\"barrelstrips\", \"avgendcap\"]\n",
    "wgroups = [[93, 93, 16, 31, 23], [87,95,18,32,24]]\n",
    "S = 2\n",
    "PU = 50\n",
    "\n",
    "for _, row in data[(data.PU==PU) & (data.S ==S)].iterrows():\n",
    "    wgroups.append( list(map(int,[row.encw1, row.encw2, row.encw3, row.encw4, row.encw5])) )\n",
    "    stripids.append(row.stripid)"
   ]
  },
  {
   "cell_type": "code",
   "execution_count": 52,
   "metadata": {
    "ExecuteTime": {
     "end_time": "2019-05-03T09:53:17.581177Z",
     "start_time": "2019-05-03T09:53:17.575083Z"
    }
   },
   "outputs": [
    {
     "name": "stdout",
     "output_type": "stream",
     "text": [
      "2902\n",
      "2902\n"
     ]
    }
   ],
   "source": [
    "print(len(stripids))\n",
    "print(len(wgroups))"
   ]
  },
  {
   "cell_type": "code",
   "execution_count": 53,
   "metadata": {
    "ExecuteTime": {
     "end_time": "2019-05-03T09:53:31.806883Z",
     "start_time": "2019-05-03T09:53:18.831248Z"
    },
    "scrolled": true
   },
   "outputs": [],
   "source": [
    "for j in group_orig.index:\n",
    "    strip = group_orig.loc[j,0]\n",
    "    group = group_orig.loc[j,1]\n",
    "    if group!=0:\n",
    "        if strip in stripids:\n",
    "            ig = stripids.index(strip)\n",
    "        else:\n",
    "            ig = stripids.index(\"avgendcap\")\n",
    "        group_orig.loc[j,1] = ig\n",
    "    "
   ]
  },
  {
   "cell_type": "code",
   "execution_count": 54,
   "metadata": {
    "ExecuteTime": {
     "end_time": "2019-05-03T09:53:34.034259Z",
     "start_time": "2019-05-03T09:53:34.024399Z"
    }
   },
   "outputs": [
    {
     "data": {
      "text/plain": [
       "(36, 2)"
      ]
     },
     "execution_count": 54,
     "metadata": {},
     "output_type": "execute_result"
    }
   ],
   "source": [
    "group_orig[group_orig[1] == 1].shape"
   ]
  },
  {
   "cell_type": "code",
   "execution_count": 55,
   "metadata": {
    "ExecuteTime": {
     "end_time": "2019-05-03T09:53:34.586872Z",
     "start_time": "2019-05-03T09:53:34.579197Z"
    }
   },
   "outputs": [],
   "source": [
    "idmap = pd.DataFrame(wgroups )"
   ]
  },
  {
   "cell_type": "code",
   "execution_count": 56,
   "metadata": {
    "ExecuteTime": {
     "end_time": "2019-05-03T09:53:37.752099Z",
     "start_time": "2019-05-03T09:53:37.593593Z"
    }
   },
   "outputs": [],
   "source": [
    "group_orig.to_csv(\"/eos/user/d/dvalsecc/ECAL/tpg-weights/Setup/EcalTPGWeightGroup_2018_PU50_S2.txt\", sep=' ', index=False, header=None)\n",
    "idmap.to_csv(\"/eos/user/d/dvalsecc/ECAL/tpg-weights/Setup/EcalTPGIdMap_2018_PU50_S2.txt\", sep=' ', index=False, header=None)"
   ]
  },
  {
   "cell_type": "code",
   "execution_count": null,
   "metadata": {},
   "outputs": [],
   "source": []
  }
 ],
 "metadata": {
  "kernelspec": {
   "display_name": "Python 3",
   "language": "python",
   "name": "python3"
  },
  "language_info": {
   "codemirror_mode": {
    "name": "ipython",
    "version": 3
   },
   "file_extension": ".py",
   "mimetype": "text/x-python",
   "name": "python",
   "nbconvert_exporter": "python",
   "pygments_lexer": "ipython3",
   "version": "3.6.5"
  },
  "toc": {
   "base_numbering": 1,
   "nav_menu": {},
   "number_sections": true,
   "sideBar": true,
   "skip_h1_title": false,
   "title_cell": "Table of Contents",
   "title_sidebar": "Contents",
   "toc_cell": false,
   "toc_position": {},
   "toc_section_display": true,
   "toc_window_display": false
  },
  "varInspector": {
   "cols": {
    "lenName": 16,
    "lenType": 16,
    "lenVar": 40
   },
   "kernels_config": {
    "python": {
     "delete_cmd_postfix": "",
     "delete_cmd_prefix": "del ",
     "library": "var_list.py",
     "varRefreshCmd": "print(var_dic_list())"
    },
    "r": {
     "delete_cmd_postfix": ") ",
     "delete_cmd_prefix": "rm(",
     "library": "var_list.r",
     "varRefreshCmd": "cat(var_dic_list()) "
    }
   },
   "types_to_exclude": [
    "module",
    "function",
    "builtin_function_or_method",
    "instance",
    "_Feature"
   ],
   "window_display": false
  }
 },
 "nbformat": 4,
 "nbformat_minor": 2
}
