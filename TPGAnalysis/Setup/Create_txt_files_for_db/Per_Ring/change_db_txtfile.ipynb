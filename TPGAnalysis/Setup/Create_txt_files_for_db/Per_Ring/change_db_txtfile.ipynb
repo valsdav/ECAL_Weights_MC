{
 "cells": [
  {
   "cell_type": "code",
   "execution_count": 3,
   "metadata": {},
   "outputs": [
    {
     "name": "stdout",
     "output_type": "stream",
     "text": [
      "[  9864   9872   9992  10000  17944  18056  18064  18184  25992  26128\n",
      "  26248  26256  26264  26376  34192  34320  34440  34448  34568  42504\n",
      "  42632  42640  42760  42768  50568  50824  50832  50952  50960  58768\n",
      "  58888  59016  59144  59152  59160  66960  67088  67208  67336  67344\n",
      "  75160  75400  75528  75536  83592  83600  83720  83728  91672  91784\n",
      "  91792  91912  99720  99856  99976  99984  99992 100104 107920 108048\n",
      " 108168 108176 108296 116360 116368 116488 116496 124552 124560 124680\n",
      " 124688 132488 132616 132744 132872 132888 140688 140808 140936 141064\n",
      " 141072 148888 149128 149256 149264 747080 747088 747208 747216 755160\n",
      " 755272 755280 755400 763216 763344 763464 763472 763592 771400 771536\n",
      " 771656 771664 771672 771784 779720 779848 779856 779976 779984 787784\n",
      " 788040 788048 788168 788176 795984 796104 796232 796360 796368 804168\n",
      " 804296 804424 804552 804560 804568 812376 812616 812744 812752 820808\n",
      " 820816 820936 820944 828888 829000 829008 829128 836936 837072 837192\n",
      " 837200 837320 845128 845264 845384 845392 845400 845512 853576 853584\n",
      " 853704 853712 861768 861776 861896 861904 869960 870088 870096 877896\n",
      " 878152 878280 878288 878296 886104 886344 886472 886480]\n",
      "168\n",
      "finished\n"
     ]
    }
   ],
   "source": [
    "#Reads in the db file and the per ring stripid enc weights file\n",
    "#finds the stripids of all crystals in ring 28 for example\n",
    "#changes the db text file weight groups of the stripids in ring 28\n",
    "\n",
    "#can find all stripids in ring 28 for example and change the weight group associated with them. good!\n",
    "import pandas as pd\n",
    "import numpy as np\n",
    "\n",
    "data = pd.read_csv(\"/eos/user/w/wrsmith/SWAN_projects/Data/DOF_encWeights_perRING_Jun18_6_stripid.txt\",  sep='\\t', float_precision='round_trip')\n",
    "txtfile = pd.read_csv(\"/eos/user/w/wrsmith/SWAN_projects/Load_db_weights/EcalTPGWeightGroup_original.txt\", delim_whitespace=True, header=None)\n",
    "\n",
    "strips = []\n",
    "for i in data.index:\n",
    "    \n",
    "    if abs(data.loc[i, 'eta_ring']) == 28:\n",
    "        stripid = data.loc[i,'stripid']\n",
    "        strips.append(stripid)\n",
    "        #print(data.loc[[i]])\n",
    "    \n",
    "\n",
    "strips = np.unique(strips)        \n",
    "print(strips)\n",
    "print(len(strips))\n",
    "        \n",
    "    \n",
    "group = 2\n",
    "    \n",
    "for s in strips:\n",
    "    #print(s)\n",
    "    \n",
    "    for j in txtfile.index:\n",
    "        #print(j)\n",
    "        if txtfile.loc[j, 0] == s:\n",
    "            txtfile.at[j, 1] = group\n",
    "            \n",
    "#print(txtfile.loc[(txtfile[1] == 3)])   \n",
    "\n",
    "\n",
    "txtfile.to_csv(\"/eos/user/w/wrsmith/SWAN_projects/Load_db_weights/EcalTPGWeightGroup.txt\", sep=' ', index=False, header=None)\n",
    "    \n",
    "    \n",
    "print(\"finished\")    \n",
    "    \n",
    "            \n"
   ]
  },
  {
   "cell_type": "code",
   "execution_count": null,
   "metadata": {},
   "outputs": [],
   "source": []
  }
 ],
 "metadata": {
  "kernelspec": {
   "display_name": "Python 3",
   "language": "python",
   "name": "python3"
  },
  "language_info": {
   "codemirror_mode": {
    "name": "ipython",
    "version": 3
   },
   "file_extension": ".py",
   "mimetype": "text/x-python",
   "name": "python",
   "nbconvert_exporter": "python",
   "pygments_lexer": "ipython3",
   "version": "3.6.5"
  }
 },
 "nbformat": 4,
 "nbformat_minor": 2
}
